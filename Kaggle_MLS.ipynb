{
  "metadata": {
    "kernelspec": {
      "display_name": "Python 3",
      "language": "python",
      "name": "python3"
    },
    "language_info": {
      "file_extension": ".py",
      "nbconvert_exporter": "python",
      "name": "python",
      "pygments_lexer": "ipython3",
      "version": "3.6.1",
      "codemirror_mode": {
        "name": "ipython",
        "version": 3
      },
      "mimetype": "text/x-python"
    }
  },
  "nbformat": 4,
  "cells": [
    {
      "metadata": {
        "_uuid": "d491ec06870a8c0519b7ff290bda678d3823771a",
        "_cell_guid": "0c4a8231-6e11-40e4-ac29-e48d3f028ccd",
        "_execution_state": "idle",
        "collapsed": false
      },
      "cell_type": "markdown",
      "source": [
        "Exploratory Data Analysis:  MLS Salary 2007 - 2017\n",
        "--------------------------------------------------\n",
        "\n",
        "This is my first submission to Kaggle where I analyze Major League Soccer player salaries and how they have changed since 2007.  Any comments and feedback are welcome. \n",
        "\n",
        " 1. Import the Data\n",
        " 2. Clean the Data\n",
        " 3. Analyze the Data\n",
        " 4. Plot the Data (Still In-Progress)"
      ]
    },
    {
      "metadata": {
        "_uuid": "3b9aa9ad9d7fd231ea57a251b8431fc426ae0abf",
        "_cell_guid": "8a4d8745-4263-459b-b6ed-dee9d6eb13cc",
        "_execution_state": "idle",
        "collapsed": false
      },
      "cell_type": "markdown",
      "source": [
        "## Importing the Data ##\n",
        "\n",
        "I imported all 11 csv files of data and concatenated them into one data frame, named **df_mls**."
      ]
    },
    {
      "metadata": {
        "_uuid": "a45566d18c1d4097e1ea4d07cb67b42e41ee2f20",
        "_cell_guid": "77147e11-8fa6-4894-8cb7-4d18ab951119",
        "_execution_state": "idle"
      },
      "execution_count": null,
      "cell_type": "code",
      "source": [
        "# Import the necessary Python libraries\n",
        "import numpy as np\n",
        "import pandas as pd \n",
        "import glob, os.path\n",
        "import matplotlib.pyplot as plt\n",
        "%matplotlib inline\n",
        "from subprocess import check_output"
      ],
      "outputs": []
    },
    {
      "metadata": {
        "_uuid": "72a55c20fcb0e8c859af1b05dc046b8cf3a71e70",
        "_cell_guid": "1c00e7e3-f8fc-47f8-88f3-a457e9823cda",
        "_execution_state": "idle",
        "collapsed": false
      },
      "execution_count": null,
      "cell_type": "code",
      "source": [
        "# Import all 11 csv files and concatenate them into one dataframe\n",
        "path = r'../input/'\n",
        "all_csv_files = glob.glob(os.path.join(path, \"*.csv\"))\n",
        "dfs = [pd.read_csv(i).assign(Season=os.path.basename(i)) for i in all_csv_files]\n",
        "df_mls = pd.concat(dfs, ignore_index=True)"
      ],
      "outputs": []
    },
    {
      "metadata": {
        "_uuid": "88b76a4212f54cd7267e0becfad41669fc6ff535",
        "_cell_guid": "15f5bbf4-7896-4948-8c41-4ece2e25614c",
        "_execution_state": "idle",
        "collapsed": false
      },
      "execution_count": null,
      "cell_type": "code",
      "source": [
        "# A new column named \"Season\" will be created and added to the new dataframe\n",
        "df_mls['Season'] = df_mls['Season'].str.replace('mls-salaries-', '')\n",
        "df_mls['Season'] = df_mls['Season'].str.replace('.csv', '')"
      ],
      "outputs": []
    },
    {
      "metadata": {
        "_uuid": "947930a9af43b5e79dbb53b766fed737cb13572c",
        "_cell_guid": "1ec74e31-850b-499f-92b7-3156d9a82b51",
        "_execution_state": "idle",
        "collapsed": false
      },
      "execution_count": null,
      "cell_type": "code",
      "source": [
        "# Observe the dataframe\n",
        "df_mls.head()"
      ],
      "outputs": []
    },
    {
      "metadata": {
        "_uuid": "39b825980e8d4a2bd1550f39a2b9b482dae1107b",
        "_cell_guid": "54598ec7-5b4d-4888-8997-8787d2932e18",
        "_execution_state": "idle",
        "collapsed": false
      },
      "execution_count": null,
      "cell_type": "code",
      "source": [
        "# Check for any missing values\n",
        "df_mls.count()"
      ],
      "outputs": []
    },
    {
      "metadata": {
        "_uuid": "75387ed8a472cada1972c7d715194c36a2ce54de",
        "_cell_guid": "e91f34b0-91df-4da3-a223-8680a7f48002",
        "_execution_state": "idle",
        "collapsed": false
      },
      "execution_count": null,
      "cell_type": "code",
      "source": [
        "# Observe the missing data\n",
        "null_data = df_mls[df_mls.isnull().any(axis=1)]\n",
        "null_data"
      ],
      "outputs": []
    },
    {
      "metadata": {
        "_uuid": "2bdb627ad839e2467b4f95f0c2260b89bd856935",
        "_cell_guid": "595a6bc1-6c3c-4ecc-a5dd-3cf78f3e8ebb",
        "_execution_state": "idle",
        "collapsed": false
      },
      "cell_type": "markdown",
      "source": [
        "**After looking at the null values, I came to the following conclusions:**\n",
        "\n",
        " - The null values for **'first_name'** can be explained by certain players going by only one name, such as Kaka. \n",
        " - The null values for the column **'club'** can be explained by them being  a free agent. \n",
        " - The null values for **'position'** and **'guaranteed_salary'** and **'base_salary'** are due to missing data"
      ]
    },
    {
      "metadata": {
        "_uuid": "0d9cb63f0852e85e357bb18e026b2b46b7986e4f",
        "_cell_guid": "427f5763-cd1b-4228-b57d-0318ba3e40f8",
        "_execution_state": "idle",
        "collapsed": false
      },
      "cell_type": "markdown",
      "source": [
        "**To Resolve the Null Values for 'first_name':**\n",
        "\n",
        "I wrote a function to combine the **'first_name'** and **'last_name'** columns together which also takes into account when players have only a first name and add this value to a new column **'Name'**."
      ]
    },
    {
      "metadata": {
        "_uuid": "dd355be1bd0d8d495b016928c2c9ec24d080e2fa",
        "_cell_guid": "cb1770ce-a7e8-49e1-b9a1-b0125a3a50a5",
        "_execution_state": "idle",
        "collapsed": false
      },
      "execution_count": null,
      "cell_type": "code",
      "source": [
        "# Create a new Column \"Name\" that combines first and last name together \n",
        "def fullname(x, y):\n",
        "    if str(x) == \"nan\":\n",
        "        return str(y)\n",
        "    else:\n",
        "        return str(x) + \" \" + str(y)"
      ],
      "outputs": []
    },
    {
      "metadata": {
        "_uuid": "684269cca4ad141447c63ad4636931250fe3bc6b",
        "_cell_guid": "1a1c5fb9-f295-41e3-8aeb-db2476024685",
        "_execution_state": "idle",
        "collapsed": false
      },
      "execution_count": null,
      "cell_type": "code",
      "source": [
        "# Apply fullname functon to the dataframe\n",
        "df_mls['Name'] = np.vectorize(fullname)(df_mls['first_name'], df_mls['last_name'])"
      ],
      "outputs": []
    },
    {
      "metadata": {
        "_uuid": "cae04d5e52e105c55d24ea748213f855f061fc57",
        "_cell_guid": "6e960e4b-b8a9-4468-9502-5b081205eaf1",
        "_execution_state": "idle",
        "collapsed": false
      },
      "execution_count": null,
      "cell_type": "code",
      "source": [
        "# Check to see if the function worked sucessfully\n",
        "df_mls.head()"
      ],
      "outputs": []
    },
    {
      "metadata": {
        "_uuid": "2e0733df9f8d88aa3dbd5c9dfc8952588a51b142",
        "_cell_guid": "8e70eb44-41aa-4f51-9c70-2c6ee791507b",
        "_execution_state": "idle",
        "collapsed": false
      },
      "execution_count": null,
      "cell_type": "code",
      "source": [
        "# Drop the 'last_name' and 'first_name' columns\n",
        "df_mls = df_mls.drop(['last_name', 'first_name'], axis = 1)"
      ],
      "outputs": []
    },
    {
      "metadata": {
        "_uuid": "1d8b69b73a8af37486f484f682a9af31f2c1d98e",
        "_cell_guid": "97c2344d-dd2a-440a-9074-4297cc51739c",
        "_execution_state": "idle",
        "collapsed": false
      },
      "execution_count": null,
      "cell_type": "code",
      "source": [
        "# Rearrange the order of the columns\n",
        "df_mls = df_mls[['Season', 'club', 'Name', 'position', 'guaranteed_compensation', 'base_salary']]\n",
        "df_mls.head()"
      ],
      "outputs": []
    },
    {
      "metadata": {
        "_uuid": "19126723fa22f61a1f7ddb66317e9377074d00ad",
        "_cell_guid": "8f9fb5aa-6fc7-41f1-b5d5-b499440727b9",
        "_execution_state": "idle",
        "collapsed": false
      },
      "cell_type": "markdown",
      "source": [
        " **To Resolve the Null Values and Odd Values for 'club':**\n",
        "\n",
        "I wrote function that assigns free agent players, which I defined as players with 'club' being 'Nan', 'None',  'POOL' or 'Pool'. I researched what 'POOL' and 'Pool' referred to and it refers to players who are contracted to MLS, but do not play for a club on a game to game basis. I also created a new data frame for these players, named **df_free_agents,** and removed them from the main data frame, **df_mls**."
      ]
    },
    {
      "metadata": {
        "_uuid": "e05f91049f8e3110a15230559effb862a697d9f7",
        "_cell_guid": "a7f94095-7c2a-4557-8175-792093625654",
        "_execution_state": "idle",
        "collapsed": false
      },
      "execution_count": null,
      "cell_type": "code",
      "source": [
        "# Observe the different 'club' names\n",
        "df_mls['club'].unique()"
      ],
      "outputs": []
    },
    {
      "metadata": {
        "_uuid": "9ff043f7c98975f417503e2599d154a23c837075",
        "_cell_guid": "012f6761-80e4-455c-b719-7b5626328089",
        "_execution_state": "idle",
        "collapsed": false
      },
      "execution_count": null,
      "cell_type": "code",
      "source": [
        "# Investigating what 'pool' is\n",
        "df_mls[df_mls['club'] == 'Pool']"
      ],
      "outputs": []
    },
    {
      "metadata": {
        "_uuid": "77a0b413e6c6b4b0d7c25acc22ed373161fb93fb",
        "_cell_guid": "fbab3d43-f3f0-4352-8d3c-a06e6c632e34",
        "_execution_state": "idle",
        "collapsed": false
      },
      "execution_count": null,
      "cell_type": "code",
      "source": [
        "df_mls[df_mls['club'] == 'POOL']"
      ],
      "outputs": []
    },
    {
      "metadata": {
        "_uuid": "643b1a54a03cb3075da6d5b4e8b07069c5b3fb37",
        "_cell_guid": "04a11c56-1908-4b1a-b38d-d0c91cbfaf55",
        "_execution_state": "idle",
        "collapsed": false
      },
      "execution_count": null,
      "cell_type": "code",
      "source": [
        "# Create a function to assign rows to \"Free Agent\"\n",
        "def free_agent(x):\n",
        "    if str(x) == \"nan\":\n",
        "        return str(\"Free Agent\")\n",
        "    elif str(x) == 'None':\n",
        "        return str(\"Free Agent\")\n",
        "    elif str(x) == 'Pool':\n",
        "        return str(\"Free Agent\")\n",
        "    elif str(x) == 'POOL':\n",
        "        return str(\"Free Agent\")\n",
        "    else:\n",
        "        return str(x)"
      ],
      "outputs": []
    },
    {
      "metadata": {
        "_uuid": "f03295e0eb63f5b4ace8aeda0b04388623ac6d52",
        "_cell_guid": "9a5a6062-7984-48d9-b5be-39cfaa9b634b",
        "_execution_state": "idle",
        "collapsed": false
      },
      "execution_count": null,
      "cell_type": "code",
      "source": [
        "# Apply the free_agent function to the dataframe\n",
        "df_mls['club'] = df_mls['club'].apply(free_agent)"
      ],
      "outputs": []
    },
    {
      "metadata": {
        "_uuid": "c60daabbdb6293ba2f3257746221971f929bd8a5",
        "_cell_guid": "d4fec63a-6c63-4b3f-8da6-0d6813ba6baf",
        "_execution_state": "idle",
        "collapsed": false
      },
      "execution_count": null,
      "cell_type": "code",
      "source": [
        "# Create a new dataframe for free agents and observe the new dataframe\n",
        "df_free_agents = df_mls[df_mls['club'] == 'Free Agent']\n",
        "df_free_agents.head(10)"
      ],
      "outputs": []
    },
    {
      "metadata": {
        "_uuid": "83cf6634d8315985b1e1866e31d4cefe34e1ff4f",
        "_cell_guid": "9ad9960e-5228-46a7-80dc-6130d81da2ae",
        "_execution_state": "idle",
        "collapsed": false
      },
      "execution_count": null,
      "cell_type": "code",
      "source": [
        "# Remove 'Free Agents' from the dataframe  \n",
        "df_mls.drop(df_mls[df_mls['club'] == 'Free Agent'].index, inplace=True)"
      ],
      "outputs": []
    },
    {
      "metadata": {
        "_uuid": "44535f04f4a631c1ff0ab3571e2ec3014ab52095",
        "_cell_guid": "4adf52da-e1cc-4ec5-a9ff-5ce52ecd46d9",
        "_execution_state": "idle",
        "collapsed": false
      },
      "execution_count": null,
      "cell_type": "code",
      "source": [
        "# Drop rows with missing base_salary\n",
        "df_mls = df_mls[pd.notnull(df_mls['base_salary'])]"
      ],
      "outputs": []
    },
    {
      "metadata": {
        "_uuid": "25371059b30d06f850dc64cc8650fea7d8f171cb",
        "_cell_guid": "f3c9a42a-9794-45ed-b17e-acebd495d43d",
        "_execution_state": "idle",
        "collapsed": false
      },
      "cell_type": "markdown",
      "source": [
        "**To Resolve the Null Value for Position**\n",
        "\n",
        "There was one row with a missing value for 'position'. Since it is one player, I researched and found out he is a defender and a midfielder; D/M"
      ]
    },
    {
      "metadata": {
        "_uuid": "9af6155274c667d30af66c0329467185c983246c",
        "_cell_guid": "9a234f23-fff3-446a-a9f0-f86c07aa72ec",
        "_execution_state": "idle",
        "collapsed": false
      },
      "execution_count": null,
      "cell_type": "code",
      "source": [
        "# Observe the row with missing position\n",
        "df_mls[df_mls['position'].isnull()] \n"
      ],
      "outputs": []
    },
    {
      "metadata": {
        "_uuid": "9763bfe0b4013980504df4eaa876b6672eac3825",
        "_cell_guid": "0c335e52-642e-4fd3-95c6-1eb20f7fae95",
        "_execution_state": "idle",
        "collapsed": false
      },
      "execution_count": null,
      "cell_type": "code",
      "source": [
        "# Assign the missing value the correct value\n",
        "df_mls.loc[873, 'position'] = str('D/M')"
      ],
      "outputs": []
    },
    {
      "metadata": {
        "_uuid": "afe96357c597c4e1783a3ca993b29c9b32d3d5ad",
        "_cell_guid": "9173a471-52c5-4a0e-ab52-be3bffa756ec",
        "_execution_state": "idle",
        "collapsed": false
      },
      "cell_type": "markdown",
      "source": [
        "**Data Wranging for the Position Values:**\n",
        "\n",
        "I wanted the  'position' values to be more consistent so I wrote a function that converts different position combinations into a consistent combination value. For example, instead of having 'MF', 'M-F', 'F/M', or  'M/F' as a position value, the function converts these to 'M/F'.   "
      ]
    },
    {
      "metadata": {
        "_uuid": "b9d1b89a9736e3c924e85e8d1a6844808a6d1679",
        "_cell_guid": "64270f1c-d2ca-4ace-b0fc-3a63d5467b91",
        "_execution_state": "idle",
        "collapsed": false
      },
      "execution_count": null,
      "cell_type": "code",
      "source": [
        "# Observe the different positions\n",
        "df_mls['position'].unique()"
      ],
      "outputs": []
    },
    {
      "metadata": {
        "_uuid": "de8509a452c683b31bf58205392a5b6c8dbe7a47",
        "_cell_guid": "1d913b35-3cbc-4ff2-b601-de7d1b402c31",
        "_execution_state": "idle",
        "collapsed": false
      },
      "execution_count": null,
      "cell_type": "code",
      "source": [
        "# Create a function to correct positions\n",
        "def position_fixer(x):\n",
        "    if x == 'D-M':\n",
        "        return str('D/M')\n",
        "    if x == 'F-D':\n",
        "        return str('D/F')\n",
        "    if x == 'D-F':\n",
        "        return str('D/F')\n",
        "    if x == 'F-M':\n",
        "        return str('M/F')\n",
        "    if x == 'M-F':\n",
        "        return str('M/F')\n",
        "    if x == 'M-D':\n",
        "        return str('D/M')\n",
        "    if x == 'M/D':\n",
        "        return str('D/M')\n",
        "    if x == 'MF':\n",
        "        return str('M/F')\n",
        "    if x == 'F/M':\n",
        "        return str('M/F')\n",
        "    else:\n",
        "        return str(x)"
      ],
      "outputs": []
    },
    {
      "metadata": {
        "_uuid": "c067f426bee1887cab26fc1a0ecf2bd887b4ee71",
        "_cell_guid": "b55e0407-366a-41e7-9d10-eae5f7f34315",
        "_execution_state": "idle",
        "collapsed": false
      },
      "execution_count": null,
      "cell_type": "code",
      "source": [
        "# Apply the position_fixer function to the dataframe\n",
        "df_mls['position'] = df_mls['position'].apply(position_fixer)"
      ],
      "outputs": []
    },
    {
      "metadata": {
        "_uuid": "6da41cd6b889d47cd9cea74bf2c3cd30b4668b84",
        "_cell_guid": "9f2c12e8-056f-4641-bcab-a4e79d9c5b5b",
        "_execution_state": "idle",
        "collapsed": false
      },
      "cell_type": "markdown",
      "source": [
        " **Data Cleaning/Wrangling Conclusion:**\n",
        "\n",
        "The new dataframe **df_mls**  no longer has any nulls and is consistent with its values. It is ready for some exploratory analysis."
      ]
    },
    {
      "metadata": {
        "_uuid": "7d20b71a6b7c3e396872e49cd318d2277b1413b5",
        "_cell_guid": "cc579453-0c6a-411f-a984-fd1ec152f0b3",
        "_execution_state": "idle",
        "collapsed": false
      },
      "execution_count": null,
      "cell_type": "code",
      "source": [
        "# Observe the new dataframe\n",
        "df_mls.count()"
      ],
      "outputs": []
    },
    {
      "metadata": {
        "_uuid": "83c68afd55d30c52b03481a0ad70683b22b7809e",
        "_cell_guid": "8e0dccec-58c8-43c5-8291-d47d6a3ee962",
        "_execution_state": "idle",
        "collapsed": false
      },
      "execution_count": null,
      "cell_type": "code",
      "source": [
        "df_mls.describe()"
      ],
      "outputs": []
    },
    {
      "metadata": {
        "_uuid": "4a83788ab9e0f45f440258d2fe40876a5a79869c",
        "_cell_guid": "2884e872-137d-4436-8565-e23f0f3a4252",
        "_execution_state": "idle",
        "collapsed": false
      },
      "execution_count": null,
      "cell_type": "code",
      "source": [
        "df_mls.head(10)"
      ],
      "outputs": []
    },
    {
      "metadata": {
        "_uuid": "4c598ff8105418a16c2f826c2f69cf1a8944af41",
        "_cell_guid": "f23aae67-7379-4d22-a52b-7a656144555b",
        "_execution_state": "idle",
        "collapsed": false
      },
      "cell_type": "markdown",
      "source": [
        "## Exploratory Analysis ##\n",
        "\n",
        "I am interested in observing how salary has changed over the 11 seasons.  I analyzed how salaries have changed over the 11 seasons. I looked trends by season, by club,  by position, and by the league overall."
      ]
    },
    {
      "metadata": {
        "_uuid": "e2a54bc1416247a08c29df2b248c8a463520d8ec",
        "_cell_guid": "8ab11b1d-4786-4658-8f2c-68baa88ef354",
        "_execution_state": "idle",
        "collapsed": false
      },
      "execution_count": null,
      "cell_type": "code",
      "source": [
        "# Observe the Average Salary by Season\n",
        "df_mls.groupby(by = 'Season')['guaranteed_compensation'].mean()"
      ],
      "outputs": []
    },
    {
      "metadata": {
        "_uuid": "cfd0c700f3ae161ad2449a9e0cd91a0cffc5b5dd",
        "_cell_guid": "ead080ce-db71-4edc-9f34-9ac441f5142b",
        "_execution_state": "idle",
        "collapsed": false
      },
      "execution_count": null,
      "cell_type": "code",
      "source": [
        "# Observe the Max Salary by Season\n",
        "df_mls.groupby(by = 'Season')['guaranteed_compensation'].max()"
      ],
      "outputs": []
    },
    {
      "metadata": {
        "_uuid": "88714759faa9636247092b9a1eab05b9687361d5",
        "_cell_guid": "7851a299-d5a0-4b1d-b2c0-104d4f57d010",
        "_execution_state": "idle",
        "collapsed": false
      },
      "execution_count": null,
      "cell_type": "code",
      "source": [
        "# Observe the Min Salary by Season\n",
        "df_mls.groupby(by = 'Season')['guaranteed_compensation'].min()"
      ],
      "outputs": []
    },
    {
      "metadata": {
        "_uuid": "c3d8e0b979bb9af462bdf7662079c4d7da95284f",
        "_cell_guid": "781e821b-10ef-4682-a9cf-7409bb838874",
        "_execution_state": "idle",
        "collapsed": false
      },
      "execution_count": null,
      "cell_type": "code",
      "source": [
        "# Observe the Difference between the Max and Min Salary by Season\n",
        "df_mls.groupby(by = 'Season')['guaranteed_compensation'].max() - df_mls.groupby(by = 'Season')['guaranteed_compensation'].min()"
      ],
      "outputs": []
    },
    {
      "metadata": {
        "_uuid": "5c1b63dc50ab057c8655aafb399024e5a6d59837",
        "_cell_guid": "f0ca77f3-93e6-4d59-bbe6-37dd78ad9749",
        "_execution_state": "idle",
        "collapsed": false
      },
      "execution_count": null,
      "cell_type": "code",
      "source": [
        "# There are some potential outliers with this data\n",
        "df_mls.groupby(by = 'Season')['guaranteed_compensation'].median()"
      ],
      "outputs": []
    },
    {
      "metadata": {
        "_uuid": "14e89ee17aea33463c520ef7038851095c3059c4",
        "_cell_guid": "456125d4-5bb1-4e13-97cc-c1768b4aaba9",
        "_execution_state": "idle",
        "collapsed": false
      },
      "execution_count": null,
      "cell_type": "code",
      "source": [
        "# Highest Paid Player per season\n",
        "df_mls.sort_values('guaranteed_compensation', ascending=False).groupby('Season', as_index=False).first()"
      ],
      "outputs": []
    },
    {
      "metadata": {
        "_uuid": "2532d880a285d72930795103df5de86255b542ad",
        "_cell_guid": "c77abf23-f4ac-447a-abd3-4338315a5448",
        "_execution_state": "idle",
        "collapsed": false
      },
      "execution_count": null,
      "cell_type": "code",
      "source": [
        "# Highest Paid Player per Position 2007-2017\n",
        "df_mls.sort_values('guaranteed_compensation', ascending=False).groupby('position', as_index=False).first()"
      ],
      "outputs": []
    },
    {
      "metadata": {
        "_uuid": "f32eb66f3ec2bfaa0eefb203f397393a65ca3ec7",
        "_cell_guid": "f47f7048-9c43-4ccb-b091-859aa22aa798",
        "_execution_state": "idle",
        "collapsed": false
      },
      "cell_type": "markdown",
      "source": [
        "The highest paid players of the current 2017 season"
      ]
    },
    {
      "metadata": {
        "_uuid": "2b4f0c286ab8475adf5a997d2cc0fdcacde97f2b",
        "_cell_guid": "8aa6d936-3b6f-4055-9803-8507634b9f06",
        "_execution_state": "idle",
        "collapsed": false
      },
      "execution_count": null,
      "cell_type": "code",
      "source": [
        "df_top17 = df_mls[df_mls['Season'] == '2017']\n",
        "df_top17.sort_values('guaranteed_compensation', ascending = False).head(15)"
      ],
      "outputs": []
    },
    {
      "metadata": {
        "_uuid": "4e285396fb81a22c06665aae6b074a7cc135e46d",
        "_cell_guid": "fed6daec-79a1-46ec-b441-e2223957c54f",
        "_execution_state": "idle",
        "collapsed": false
      },
      "execution_count": null,
      "cell_type": "code",
      "source": [
        "# Ten Highest Paid Players 2007 - 2017\n",
        "df_final = df_mls.drop_duplicates(subset='Name')\n",
        "df_final.sort_values('guaranteed_compensation', ascending = False).head(10)"
      ],
      "outputs": []
    },
    {
      "metadata": {
        "_uuid": "a562d4c699dc17b2a7e5d67d629989ee5f7727a1",
        "_cell_guid": "d987370b-34d0-401d-843b-8bdf97b6dc03",
        "_execution_state": "idle",
        "collapsed": false
      },
      "execution_count": null,
      "cell_type": "code",
      "source": [
        "# Highest Paid Player Per Club Each Season\n",
        "df_mls.sort_values('guaranteed_compensation', ascending=False).groupby(['Season', 'club'], as_index=False).first()"
      ],
      "outputs": []
    },
    {
      "metadata": {
        "_uuid": "67992500ab2caccc0a2e6abe1f79814591664148",
        "_cell_guid": "2e18c01d-d608-465a-bd4b-d34ed21f2a51",
        "_execution_state": "idle",
        "collapsed": false
      },
      "execution_count": null,
      "cell_type": "code",
      "source": [
        "# Highest Paid Player Per Club 2007 to 2017 Season\n",
        "df_mls.sort_values('guaranteed_compensation', ascending=False).groupby('club', as_index=False).first()"
      ],
      "outputs": []
    },
    {
      "metadata": {
        "_uuid": "ba87ee0d09cde7585bc13abf08970aa72157402c",
        "_cell_guid": "7d6b2b16-c691-41ee-9b26-19f0bf8e055d",
        "_execution_state": "idle",
        "collapsed": false
      },
      "execution_count": null,
      "cell_type": "code",
      "source": [
        "df_free_agents['guaranteed_compensation'].mean()"
      ],
      "outputs": []
    },
    {
      "metadata": {
        "_uuid": "db3f16ef6134ac43a8f4d41206254774280b849d",
        "_cell_guid": "693a04d6-cd12-4f72-9574-37d60199662a",
        "_execution_state": "idle",
        "collapsed": false
      },
      "execution_count": null,
      "cell_type": "code",
      "source": [
        "# Highest Paid Free Agent Per Season\n",
        "df_free_agents.sort_values('guaranteed_compensation', ascending=False).groupby('Season', as_index=False).first()"
      ],
      "outputs": []
    },
    {
      "metadata": {
        "_uuid": "7bd8fb832480c588c511368662cae765b068cd78",
        "_cell_guid": "59fb8b90-0f7d-4af8-9560-26db40808f3d",
        "_execution_state": "idle",
        "collapsed": false
      },
      "execution_count": null,
      "cell_type": "code",
      "source": [
        "# Highest Paid Free Agent Per Season\n",
        "df_free_agents.sort_values('guaranteed_compensation', ascending=False).groupby('Season', as_index=False).first()"
      ],
      "outputs": []
    },
    {
      "metadata": {
        "_uuid": "190ca448e6447f24aced7131db6f12840e9a1bdc",
        "_cell_guid": "1246445f-8f83-432d-a93e-b36e2e5299c3",
        "_execution_state": "idle",
        "collapsed": false
      },
      "cell_type": "markdown",
      "source": [
        "## Plotting the Data ##"
      ]
    },
    {
      "metadata": {
        "_uuid": "4dafb15f96d2198b6817a961fc82ff5ee00f365b",
        "_cell_guid": "0859e602-54e0-416f-b949-e7617f0c6b45",
        "_execution_state": "idle",
        "collapsed": false
      },
      "execution_count": null,
      "cell_type": "code",
      "source": [
        "salary_totals = df_mls.groupby('Season').sum()\n",
        "salary_totals.plot(kind = 'bar', title = \"Total Salary by Season\",figsize=(10,6)).set_ylabel(\"Salary (USD in millions)\");\n",
        "# The total salary has increased over the years\n"
      ],
      "outputs": []
    },
    {
      "metadata": {
        "_uuid": "b59a9bf7d13f6851a7e1b0739996e44420095fd1",
        "_cell_guid": "39f8279c-5aa1-4191-a579-34b8283b804a",
        "_execution_state": "idle",
        "collapsed": false
      },
      "cell_type": "markdown",
      "source": [
        "The total salary paid by each club has generally increased over the eleven seasons. There was a decrease from Season 2012 to 2013, which was also the season David Beckham no longer was playing in the league. However, from Season 2013 onward, the total salary continued to increase. "
      ]
    },
    {
      "metadata": {
        "_uuid": "ca3bc471edf546207fb661436b46b7b1c9defd59",
        "_cell_guid": "19a3e122-670d-460a-a1c5-eb1e4f8df628",
        "_execution_state": "idle",
        "collapsed": false
      },
      "execution_count": null,
      "cell_type": "code",
      "source": [
        "salary_median = df_mls.groupby('Season').median()\n",
        "salary_median.plot(kind = 'bar', title = \"Median Salary by Season\",figsize=(10,6)).set_ylabel(\"Salary (USD in millions)\");"
      ],
      "outputs": []
    },
    {
      "metadata": {
        "_uuid": "01a3a90580d79f26bd9a7bc05db1dc4053bb1843",
        "_cell_guid": "71bbc17f-155c-4923-8de2-eb0d08993909",
        "_execution_state": "idle",
        "collapsed": false
      },
      "execution_count": null,
      "cell_type": "code",
      "source": [
        "salary_mean = df_mls.groupby('Season').mean()\n",
        "salary_mean.plot(kind = 'bar', title = \"Average Salary by Season\",figsize=(10,6)).set_ylabel(\"Salary (USD in millions)\");"
      ],
      "outputs": []
    },
    {
      "metadata": {
        "_uuid": "cfcd54962c387895f240dbda80e70519d8eb390d",
        "_cell_guid": "d2bfbc37-ac33-4719-8f16-9407b42a010d",
        "_execution_state": "idle",
        "collapsed": false
      },
      "execution_count": null,
      "cell_type": "code",
      "source": [
        "salary_totals_by_club = df_mls.groupby('club').sum()\n",
        "salary_totals_by_club.plot(kind = 'bar', title = \"Total Salary by Club\",figsize=(10,6)).set_ylabel(\"Salary (USD in millions)\");"
      ],
      "outputs": []
    },
    {
      "metadata": {
        "_uuid": "20b4743cb561473811495ad601c87a15b0aff4ba",
        "_cell_guid": "fdb933f1-95bb-4825-a4eb-a00bf1d5ba25",
        "_execution_state": "idle",
        "collapsed": false
      },
      "execution_count": null,
      "cell_type": "code",
      "source": [
        "df_mls17 = df_mls[df_mls['Season'] == '2017'].sort_values('guaranteed_compensation').groupby('club').sum()\n",
        "df_mls17.plot(kind = 'bar', title = \"2017 Total Salary by Club\",figsize=(10,6)).set_ylabel(\"Salary (USD in millions)\");"
      ],
      "outputs": []
    },
    {
      "metadata": {
        "_uuid": "dc992d5c252ec8e657554f8043b719f5f2789df5",
        "_cell_guid": "2abefa64-06af-4a72-8e52-bbe2ae84d699",
        "_execution_state": "idle",
        "collapsed": false
      },
      "cell_type": "markdown",
      "source": [
        "I wanted to observe how much each club has spent on player salaries over the 11 seasons. LA Galaxy, New York Red bulls, and Toronto FC have been the biggest spenders. Interestingly, New York FC, which was had its first season in MLS in 2013 has already spent more than five other clubs. \n",
        "\n",
        "Please note: LAFC is a new expansion club and will enter the league in 2018.  "
      ]
    },
    {
      "metadata": {
        "_uuid": "15915b345a6e7d585624963965e9ed32f810f28a",
        "_cell_guid": "ba1f7f68-3994-4bd5-afba-e4ba12e795a2",
        "_execution_state": "idle",
        "collapsed": false
      },
      "execution_count": null,
      "cell_type": "code",
      "source": [
        "df_mls_dc = df_mls[df_mls['club'] == \"DC\"]\n",
        "df_max_salary_by_season_dc = df_mls_dc.groupby('Season')['guaranteed_compensation'].max()\n",
        "df_max_salary_by_season_dc.plot(kind = 'bar', title = \"Highest Salary by Season (DC United)\",figsize=(10,6), color = 'red').set_ylabel(\"Salary (USD in millions)\");"
      ],
      "outputs": []
    },
    {
      "metadata": {
        "_uuid": "329ae66e0de91cd22e295bd15bd44e08a55c6620",
        "_cell_guid": "846bf47b-d352-4042-ae62-7dde155c9394",
        "_execution_state": "idle",
        "collapsed": false
      },
      "cell_type": "markdown",
      "source": [
        "I wanted to see how my local club, DC United, have been spending."
      ]
    },
    {
      "metadata": {
        "_uuid": "573360171a6424f56fc4140ef5197dcf1cb23872",
        "_cell_guid": "442daa46-b6bb-4a85-8ec0-49bce9d9c1f7",
        "_execution_state": "idle",
        "collapsed": false
      },
      "execution_count": null,
      "cell_type": "code",
      "source": [
        "df_mls_la = df_mls[df_mls['club'] == \"LA\"]\n",
        "df_max_salary_by_season_la = df_mls_la.groupby('Season')['guaranteed_compensation'].max()\n",
        "df_max_salary_by_season_la.plot(kind = 'bar', title = \"Highest Salary by Season (La Galaxy)\",figsize=(10,6), color = 'purple').set_ylabel(\"Salary (USD in millions)\");"
      ],
      "outputs": []
    }
  ],
  "nbformat_minor": 0
}